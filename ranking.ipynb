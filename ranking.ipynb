{
 "cells": [
  {
   "cell_type": "code",
   "execution_count": 5,
   "metadata": {},
   "outputs": [],
   "source": [
    "movie_idx = np.array([[0, 3, 4, 5, 6, 7, 8],\n",
    "       [0, 3, 5, 6, 7, 8, 9],\n",
    "       [0, 3, 4, 5, 6, 7, 8],\n",
    "       [0, 3, 4, 5, 6, 7, 8]])"
   ]
  },
  {
   "cell_type": "code",
   "execution_count": 47,
   "metadata": {},
   "outputs": [
    {
     "data": {
      "text/plain": [
       "array([[0, 3, 4, 5, 6, 7, 8],\n",
       "       [0, 3, 5, 6, 7, 8, 9],\n",
       "       [0, 3, 4, 5, 6, 7, 8],\n",
       "       [0, 3, 4, 5, 6, 7, 8]])"
      ]
     },
     "execution_count": 47,
     "metadata": {},
     "output_type": "execute_result"
    }
   ],
   "source": [
    "movie_idx"
   ]
  },
  {
   "cell_type": "code",
   "execution_count": 135,
   "metadata": {},
   "outputs": [],
   "source": [
    "from urllib.request import urlretrieve\n",
    "import zipfile\n",
    "import pandas as pd\n",
    "import numpy as np\n",
    "import random\n",
    "\n",
    "movies_cols = [\n",
    "    'movie_id', 'title', 'release_date', \"video_release_date\", \"imdb_url\"\n",
    "] + genre_cols\n",
    "movies = pd.read_csv(\n",
    "    'data/u.item', sep='|', names=movies_cols, encoding='latin-1')\n",
    "\n",
    "\n",
    "\n"
   ]
  },
  {
   "cell_type": "code",
   "execution_count": 136,
   "metadata": {},
   "outputs": [],
   "source": [
    "movies[\"movie_id\"] = movies[\"movie_id\"].apply(lambda x: str(x-1))\n"
   ]
  },
  {
   "cell_type": "code",
   "execution_count": 138,
   "metadata": {},
   "outputs": [
    {
     "data": {
      "text/plain": [
       "array([0, 3, 4, 5, 6, 7, 8])"
      ]
     },
     "execution_count": 138,
     "metadata": {},
     "output_type": "execute_result"
    }
   ],
   "source": [
    "movie_idx[0]"
   ]
  },
  {
   "cell_type": "code",
   "execution_count": 114,
   "metadata": {},
   "outputs": [
    {
     "data": {
      "text/html": [
       "<div>\n",
       "<style scoped>\n",
       "    .dataframe tbody tr th:only-of-type {\n",
       "        vertical-align: middle;\n",
       "    }\n",
       "\n",
       "    .dataframe tbody tr th {\n",
       "        vertical-align: top;\n",
       "    }\n",
       "\n",
       "    .dataframe thead th {\n",
       "        text-align: right;\n",
       "    }\n",
       "</style>\n",
       "<table border=\"1\" class=\"dataframe\">\n",
       "  <thead>\n",
       "    <tr style=\"text-align: right;\">\n",
       "      <th></th>\n",
       "      <th>movie_id</th>\n",
       "      <th>title</th>\n",
       "      <th>release_date</th>\n",
       "      <th>video_release_date</th>\n",
       "      <th>imdb_url</th>\n",
       "      <th>genre_unknown</th>\n",
       "      <th>Action</th>\n",
       "      <th>Adventure</th>\n",
       "      <th>Animation</th>\n",
       "      <th>Children</th>\n",
       "      <th>...</th>\n",
       "      <th>Fantasy</th>\n",
       "      <th>Film-Noir</th>\n",
       "      <th>Horror</th>\n",
       "      <th>Musical</th>\n",
       "      <th>Mystery</th>\n",
       "      <th>Romance</th>\n",
       "      <th>Sci-Fi</th>\n",
       "      <th>Thriller</th>\n",
       "      <th>War</th>\n",
       "      <th>Western</th>\n",
       "    </tr>\n",
       "  </thead>\n",
       "  <tbody>\n",
       "    <tr>\n",
       "      <th>0</th>\n",
       "      <td>0</td>\n",
       "      <td>Toy Story (1995)</td>\n",
       "      <td>01-Jan-1995</td>\n",
       "      <td>NaN</td>\n",
       "      <td>http://us.imdb.com/M/title-exact?Toy%20Story%2...</td>\n",
       "      <td>0</td>\n",
       "      <td>0</td>\n",
       "      <td>0</td>\n",
       "      <td>1</td>\n",
       "      <td>1</td>\n",
       "      <td>...</td>\n",
       "      <td>0</td>\n",
       "      <td>0</td>\n",
       "      <td>0</td>\n",
       "      <td>0</td>\n",
       "      <td>0</td>\n",
       "      <td>0</td>\n",
       "      <td>0</td>\n",
       "      <td>0</td>\n",
       "      <td>0</td>\n",
       "      <td>0</td>\n",
       "    </tr>\n",
       "  </tbody>\n",
       "</table>\n",
       "<p>1 rows × 24 columns</p>\n",
       "</div>"
      ],
      "text/plain": [
       "  movie_id             title release_date  video_release_date  \\\n",
       "0        0  Toy Story (1995)  01-Jan-1995                 NaN   \n",
       "\n",
       "                                            imdb_url  genre_unknown  Action  \\\n",
       "0  http://us.imdb.com/M/title-exact?Toy%20Story%2...              0       0   \n",
       "\n",
       "   Adventure  Animation  Children  ...  Fantasy  Film-Noir  Horror  Musical  \\\n",
       "0          0          1         1  ...        0          0       0        0   \n",
       "\n",
       "   Mystery  Romance  Sci-Fi  Thriller  War  Western  \n",
       "0        0        0       0         0    0        0  \n",
       "\n",
       "[1 rows x 24 columns]"
      ]
     },
     "execution_count": 114,
     "metadata": {},
     "output_type": "execute_result"
    }
   ],
   "source": [
    "movies[movies.movie_id == '0']"
   ]
  },
  {
   "cell_type": "code",
   "execution_count": 87,
   "metadata": {},
   "outputs": [
    {
     "data": {
      "text/plain": [
       "True"
      ]
     },
     "execution_count": 87,
     "metadata": {},
     "output_type": "execute_result"
    }
   ],
   "source": [
    "0 in movie_idx"
   ]
  },
  {
   "cell_type": "code",
   "execution_count": 124,
   "metadata": {},
   "outputs": [
    {
     "name": "stdout",
     "output_type": "stream",
     "text": [
      "[0 3 4 5 6 7 8]\n",
      "Empty DataFrame\n",
      "Columns: [movie_id, title, release_date, video_release_date, imdb_url, genre_unknown, Action, Adventure, Animation, Children, Comedy, Crime, Documentary, Drama, Fantasy, Film-Noir, Horror, Musical, Mystery, Romance, Sci-Fi, Thriller, War, Western]\n",
      "Index: []\n",
      "\n",
      "[0 rows x 24 columns]\n",
      "[0 3 5 6 7 8 9]\n",
      "Empty DataFrame\n",
      "Columns: [movie_id, title, release_date, video_release_date, imdb_url, genre_unknown, Action, Adventure, Animation, Children, Comedy, Crime, Documentary, Drama, Fantasy, Film-Noir, Horror, Musical, Mystery, Romance, Sci-Fi, Thriller, War, Western]\n",
      "Index: []\n",
      "\n",
      "[0 rows x 24 columns]\n",
      "[0 3 4 5 6 7 8]\n",
      "Empty DataFrame\n",
      "Columns: [movie_id, title, release_date, video_release_date, imdb_url, genre_unknown, Action, Adventure, Animation, Children, Comedy, Crime, Documentary, Drama, Fantasy, Film-Noir, Horror, Musical, Mystery, Romance, Sci-Fi, Thriller, War, Western]\n",
      "Index: []\n",
      "\n",
      "[0 rows x 24 columns]\n",
      "[0 3 4 5 6 7 8]\n",
      "Empty DataFrame\n",
      "Columns: [movie_id, title, release_date, video_release_date, imdb_url, genre_unknown, Action, Adventure, Animation, Children, Comedy, Crime, Documentary, Drama, Fantasy, Film-Noir, Horror, Musical, Mystery, Romance, Sci-Fi, Thriller, War, Western]\n",
      "Index: []\n",
      "\n",
      "[0 rows x 24 columns]\n"
     ]
    }
   ],
   "source": [
    "movie_list = []\n",
    "for i in movie_idx[:]:\n",
    "    print(i)\n",
    "    print(movies[movies.movie_id == str(i)])"
   ]
  },
  {
   "cell_type": "code",
   "execution_count": 122,
   "metadata": {},
   "outputs": [
    {
     "data": {
      "text/plain": [
       "[]"
      ]
     },
     "execution_count": 122,
     "metadata": {},
     "output_type": "execute_result"
    }
   ],
   "source": [
    "movie_list"
   ]
  },
  {
   "cell_type": "code",
   "execution_count": 21,
   "metadata": {},
   "outputs": [
    {
     "name": "stdout",
     "output_type": "stream",
     "text": [
      "0     0\n",
      "1     1\n",
      "2     2\n",
      "3     3\n",
      "4     4\n",
      "5     5\n",
      "6     0\n",
      "7     6\n",
      "8     6\n",
      "9     7\n",
      "10    8\n",
      "11    5\n",
      "12    6\n",
      "13    2\n",
      "14    9\n",
      "15    4\n",
      "16    9\n",
      "17    9\n",
      "Name: movie, dtype: int64\n",
      "    user movie_type      movie\n",
      "0      0    dislike     [0, 1]\n",
      "1      0       like     [2, 3]\n",
      "2      1       like     [4, 5]\n",
      "3      2       like     [0, 6]\n",
      "4      3    dislike        [6]\n",
      "5      4    dislike        [7]\n",
      "6      5       like        [8]\n",
      "7      6       like     [5, 6]\n",
      "8      7       like  [2, 9, 4]\n",
      "9      8    dislike        [9]\n",
      "10     9    dislike        [9]\n"
     ]
    }
   ],
   "source": [
    "from urllib.request import urlretrieve\n",
    "import zipfile\n",
    "import pandas as pd\n",
    "import numpy as np\n",
    "import random\n",
    "\n",
    "users_cols = ['user_id', 'age', 'sex', 'occupation', 'zip_code']\n",
    "users = pd.read_csv(\n",
    "    'data/u.user', sep='|', names=users_cols, encoding='latin-1')\n",
    "\n",
    "ratings_cols = ['user_id', 'movie_id', 'rating', 'unix_timestamp']\n",
    "ratings = pd.read_csv(\n",
    "    'data/u.data', sep='\\t', names=ratings_cols, encoding='latin-1')\n",
    "\n",
    "# The movies file contains a binary feature for each genre.\n",
    "genre_cols = [\n",
    "    \"genre_unknown\", \"Action\", \"Adventure\", \"Animation\", \"Children\", \"Comedy\",\n",
    "    \"Crime\", \"Documentary\", \"Drama\", \"Fantasy\", \"Film-Noir\", \"Horror\",\n",
    "    \"Musical\", \"Mystery\", \"Romance\", \"Sci-Fi\", \"Thriller\", \"War\", \"Western\",\n",
    "]\n",
    "movies_cols = [\n",
    "    'movie_id', 'title', 'release_date', \"video_release_date\", \"imdb_url\"\n",
    "] + genre_cols\n",
    "movies = pd.read_csv(\n",
    "    'data/u.item', sep='|', names=movies_cols, encoding='latin-1')\n",
    "\n",
    "# Since the ids start at 1, we shift them to start at 0.\n",
    "users[\"user_id\"] = users[\"user_id\"].apply(lambda x: str(x-1))\n",
    "movies[\"movie_id\"] = movies[\"movie_id\"].apply(lambda x: str(x-1))\n",
    "movies[\"year\"] = movies['release_date'].apply(lambda x: str(x).split('-')[-1])\n",
    "ratings[\"movie_id\"] = ratings[\"movie_id\"].apply(lambda x: str(x-1))\n",
    "ratings[\"user_id\"] = ratings[\"user_id\"].apply(lambda x: str(x-1))\n",
    "ratings[\"rating\"] = ratings[\"rating\"].apply(lambda x: float(x))\n",
    "\n",
    "\n",
    "genre_occurences = movies[genre_cols].sum().to_dict()\n",
    "\n",
    "genres_encoded = {x: i for i, x in enumerate(genre_cols)}\n",
    "\n",
    "\n",
    "\n",
    "def get_genres(movies, genres):\n",
    "    def get_all_genres(gs):\n",
    "        active = [str(genres_encoded[genre]) for genre, g in zip(genres, gs) if g==1]\n",
    "        if len(active) == 0:\n",
    "            return '0'\n",
    "        return ','.join((active))\n",
    "    movies['all_genres'] = [\n",
    "        get_all_genres(gs) for gs in zip(*[movies[genre] for genre in genres])]\n",
    "\n",
    "get_genres(movies, genre_cols) # 각 유저가 본 장르 얻기\n",
    "\n",
    "rating_details_sample = ratings.merge(movies, on='movie_id').merge(users, on='user_id')\n",
    "\n",
    "rating_details_sample['user_id']=rating_details_sample['user_id'].astype(int)\n",
    "rating_details_sample['movie_id']=rating_details_sample['movie_id'].astype(int)\n",
    "rating_details_sample=rating_details_sample.set_index(['user_id','unix_timestamp']).sort_index()\n",
    "rating_details_sample =rating_details_sample.reset_index()\n",
    "\n",
    "rating_details_sample['movie_type']=np.where(rating_details_sample['rating'] >= 3, 'like', 'dislike') # 3보다 크면 like\n",
    "rating_details_sample['movie_name']=rating_details_sample['title'].str[:-6] # 년도 부분 자르기\n",
    "\n",
    "user_ids = rating_details_sample[\"user_id\"].unique().tolist()\n",
    "user2user_encoded = {x: i for i, x in enumerate(user_ids)}\n",
    "userencoded2user = {i: x for i, x in enumerate(user_ids)}\n",
    "\n",
    "movie_ids = rating_details_sample[\"movie_id\"].unique().tolist()\n",
    "movie2movie_encoded = {x: i for i, x in enumerate(movie_ids)}\n",
    "movie_encoded2movie = {i: x for i, x in enumerate(movie_ids)}\n",
    "\n",
    "\n",
    "title_ids = rating_details_sample[\"movie_name\"].unique().tolist()\n",
    "title2title_encoded = {x: i for i, x in enumerate(title_ids)}\n",
    "title_encoded2title = {i: x for i, x in enumerate(title_ids)}\n",
    "\n",
    "rating_details_sample[\"user\"] = rating_details_sample[\"user_id\"].map(user2user_encoded)\n",
    "rating_details_sample[\"movie\"] = rating_details_sample[\"movie_id\"].map(movie2movie_encoded)\n",
    "rating_details_sample[\"title_d\"] = rating_details_sample[\"movie_name\"].map(title2title_encoded)\n",
    "# print(rating_details_sample[\"movie\"] )\n",
    "sample_data=rating_details_sample[['user','occupation','sex']]\n",
    "sample_data=sample_data.reset_index()\n",
    "\n",
    "movie_list = rating_details_sample.groupby(['user','movie_type'])['movie'].apply(list).reset_index()\n",
    "title_list = rating_details_sample.groupby(['user'])['title_d'].apply(list).reset_index()\n",
    "genre_list = rating_details_sample.groupby(['user'])['all_genres'].unique().apply(list).reset_index()\n",
    "\n",
    "print(movie_list)\n",
    "\n",
    "# Get the unique set of genre for all the users\n",
    "genre_list['all_genres']=genre_list['all_genres'].apply(lambda x: list(set(','.join(x))) ) # 중복제거\n",
    "genre_list['all_genres']=genre_list['all_genres'].apply(lambda x:[ x for x in x if x.isdigit() ])\n",
    "\n",
    "user_video_list = movie_list.pivot(index='user', columns='movie_type', values='movie').reset_index()\n",
    "user_video_list.fillna(rating_details_sample[\"movie\"].max()+1, inplace=True)\n",
    "\n",
    "sample_data = sample_data.drop('index',axis=1)\n",
    "sample_data = sample_data.drop_duplicates()\n",
    "\n",
    "user_final_list = pd.merge(user_video_list,title_list, how= 'left')\n",
    "user_title_list1 = pd.merge(user_final_list,genre_list, how='left')\n",
    "user_title_list = pd.merge(user_title_list1,sample_data, how='left')\n",
    "\n",
    "user_title_list['like'] =user_title_list['like'].apply(lambda x: x if type(x) is list else [x])\n",
    "user_title_list['dislike'] =user_title_list['dislike'].apply(lambda x: x if type(x) is list else [x])\n",
    "user_title_list['predict_labels'] = user_title_list['like'].apply(lambda x: int(random.uniform(0,rating_details_sample[\"movie\"].max()))) #label을 마지막 값으로..\n",
    "# user_title_list['predict_labels'] = user_title_list['like'].apply(lambda x: (x[-1])) #label을 마지막 값으로..\n",
    "# user_title_list['like']=user_title_list['like'].apply(lambda x: (x[:-1])) # 마지막 인덱스 레이블로 쓰고 제외\n",
    "# user_title_list['like']=user_title_list['like'].apply(lambda x: [rating_details_sample[\"movie\"].max()+2] if x == [] else x)\n",
    "\n",
    "# user_title_list['predict_labels'] = user_title_list['predict_labels'].apply(lambda x: 1 if x == 10 else x)\n",
    "\n",
    "user_title_list_e=user_title_list[(user_title_list.user >= 1)&\n",
    "                                  (user_title_list.user <= 5)]\n",
    "test_data=user_title_list[(user_title_list.user >= 6)&\n",
    "                                  (user_title_list.user <= 9)]\n",
    "\n"
   ]
  },
  {
   "cell_type": "code",
   "execution_count": 17,
   "metadata": {},
   "outputs": [
    {
     "data": {
      "text/html": [
       "<div>\n",
       "<style scoped>\n",
       "    .dataframe tbody tr th:only-of-type {\n",
       "        vertical-align: middle;\n",
       "    }\n",
       "\n",
       "    .dataframe tbody tr th {\n",
       "        vertical-align: top;\n",
       "    }\n",
       "\n",
       "    .dataframe thead th {\n",
       "        text-align: right;\n",
       "    }\n",
       "</style>\n",
       "<table border=\"1\" class=\"dataframe\">\n",
       "  <thead>\n",
       "    <tr style=\"text-align: right;\">\n",
       "      <th></th>\n",
       "      <th>user</th>\n",
       "      <th>dislike</th>\n",
       "      <th>like</th>\n",
       "      <th>title_d</th>\n",
       "      <th>all_genres</th>\n",
       "      <th>occupation</th>\n",
       "      <th>sex</th>\n",
       "      <th>predict_labels</th>\n",
       "    </tr>\n",
       "  </thead>\n",
       "  <tbody>\n",
       "    <tr>\n",
       "      <th>1</th>\n",
       "      <td>1</td>\n",
       "      <td>[10]</td>\n",
       "      <td>[4, 5]</td>\n",
       "      <td>[4, 5]</td>\n",
       "      <td>[5, 1, 8, 2, 6]</td>\n",
       "      <td>other</td>\n",
       "      <td>F</td>\n",
       "      <td>5</td>\n",
       "    </tr>\n",
       "    <tr>\n",
       "      <th>2</th>\n",
       "      <td>2</td>\n",
       "      <td>[10]</td>\n",
       "      <td>[0, 6]</td>\n",
       "      <td>[0, 6]</td>\n",
       "      <td>[5, 4, 1, 8, 6]</td>\n",
       "      <td>writer</td>\n",
       "      <td>M</td>\n",
       "      <td>3</td>\n",
       "    </tr>\n",
       "    <tr>\n",
       "      <th>3</th>\n",
       "      <td>3</td>\n",
       "      <td>[6]</td>\n",
       "      <td>[10]</td>\n",
       "      <td>[6]</td>\n",
       "      <td>[8, 4, 5]</td>\n",
       "      <td>technician</td>\n",
       "      <td>M</td>\n",
       "      <td>2</td>\n",
       "    </tr>\n",
       "    <tr>\n",
       "      <th>4</th>\n",
       "      <td>4</td>\n",
       "      <td>[7]</td>\n",
       "      <td>[10]</td>\n",
       "      <td>[7]</td>\n",
       "      <td>[8, 1, 5]</td>\n",
       "      <td>other</td>\n",
       "      <td>F</td>\n",
       "      <td>8</td>\n",
       "    </tr>\n",
       "    <tr>\n",
       "      <th>5</th>\n",
       "      <td>5</td>\n",
       "      <td>[10]</td>\n",
       "      <td>[8]</td>\n",
       "      <td>[8]</td>\n",
       "      <td>[8]</td>\n",
       "      <td>executive</td>\n",
       "      <td>M</td>\n",
       "      <td>3</td>\n",
       "    </tr>\n",
       "  </tbody>\n",
       "</table>\n",
       "</div>"
      ],
      "text/plain": [
       "   user dislike    like title_d       all_genres  occupation sex  \\\n",
       "1     1    [10]  [4, 5]  [4, 5]  [5, 1, 8, 2, 6]       other   F   \n",
       "2     2    [10]  [0, 6]  [0, 6]  [5, 4, 1, 8, 6]      writer   M   \n",
       "3     3     [6]    [10]     [6]        [8, 4, 5]  technician   M   \n",
       "4     4     [7]    [10]     [7]        [8, 1, 5]       other   F   \n",
       "5     5    [10]     [8]     [8]              [8]   executive   M   \n",
       "\n",
       "   predict_labels  \n",
       "1               5  \n",
       "2               3  \n",
       "3               2  \n",
       "4               8  \n",
       "5               3  "
      ]
     },
     "execution_count": 17,
     "metadata": {},
     "output_type": "execute_result"
    }
   ],
   "source": [
    "user_title_list_e\n"
   ]
  },
  {
   "cell_type": "code",
   "execution_count": null,
   "metadata": {},
   "outputs": [],
   "source": []
  },
  {
   "cell_type": "code",
   "execution_count": 28,
   "metadata": {},
   "outputs": [
    {
     "ename": "TypeError",
     "evalue": "__init__() got an unexpected keyword argument 'columns'",
     "output_type": "error",
     "traceback": [
      "\u001b[0;31m---------------------------------------------------------------------------\u001b[0m",
      "\u001b[0;31mTypeError\u001b[0m                                 Traceback (most recent call last)",
      "\u001b[0;32m<ipython-input-28-6c42923eb6f3>\u001b[0m in \u001b[0;36m<module>\u001b[0;34m\u001b[0m\n\u001b[0;32m----> 1\u001b[0;31m \u001b[0ma\u001b[0m \u001b[0;34m=\u001b[0m \u001b[0mpd\u001b[0m\u001b[0;34m.\u001b[0m\u001b[0mSeries\u001b[0m\u001b[0;34m(\u001b[0m\u001b[0mmovie_idx\u001b[0m\u001b[0;34m,\u001b[0m \u001b[0mindex\u001b[0m\u001b[0;34m=\u001b[0m\u001b[0mrange\u001b[0m\u001b[0;34m(\u001b[0m\u001b[0;36m6\u001b[0m\u001b[0;34m,\u001b[0m\u001b[0;36m10\u001b[0m\u001b[0;34m)\u001b[0m \u001b[0;34m,\u001b[0m\u001b[0mcolumns\u001b[0m\u001b[0;34m=\u001b[0m\u001b[0;34m[\u001b[0m\u001b[0;34m'test1'\u001b[0m\u001b[0;34m,\u001b[0m\u001b[0;34m'test3'\u001b[0m\u001b[0;34m,\u001b[0m\u001b[0;34m'test3'\u001b[0m\u001b[0;34m,\u001b[0m\u001b[0;34m'test4'\u001b[0m\u001b[0;34m,\u001b[0m\u001b[0;34m'test5'\u001b[0m\u001b[0;34m,\u001b[0m\u001b[0;34m'test6'\u001b[0m\u001b[0;34m,\u001b[0m\u001b[0;34m'test7'\u001b[0m\u001b[0;34m]\u001b[0m\u001b[0;34m)\u001b[0m\u001b[0;34m\u001b[0m\u001b[0;34m\u001b[0m\u001b[0m\n\u001b[0m\u001b[1;32m      2\u001b[0m \u001b[0;31m# a['cc']\u001b[0m\u001b[0;34m\u001b[0m\u001b[0;34m\u001b[0m\u001b[0;34m\u001b[0m\u001b[0m\n",
      "\u001b[0;31mTypeError\u001b[0m: __init__() got an unexpected keyword argument 'columns'"
     ]
    }
   ],
   "source": [
    "a = pd.Series(movie_idx, index=range(6,10) ,columns=['test1','test3','test3','test4','test5','test6','test7'])\n",
    "# a['cc']"
   ]
  },
  {
   "cell_type": "code",
   "execution_count": null,
   "metadata": {},
   "outputs": [],
   "source": []
  }
 ],
 "metadata": {
  "kernelspec": {
   "display_name": "Python 3",
   "language": "python",
   "name": "python3"
  },
  "language_info": {
   "codemirror_mode": {
    "name": "ipython",
    "version": 3
   },
   "file_extension": ".py",
   "mimetype": "text/x-python",
   "name": "python",
   "nbconvert_exporter": "python",
   "pygments_lexer": "ipython3",
   "version": "3.6.10"
  }
 },
 "nbformat": 4,
 "nbformat_minor": 4
}
